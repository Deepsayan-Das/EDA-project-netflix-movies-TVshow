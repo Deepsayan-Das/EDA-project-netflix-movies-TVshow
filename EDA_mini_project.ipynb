{
 "cells": [
  {
   "cell_type": "markdown",
   "id": "d391c66a-89ab-4d47-9141-09c3cbbc2102",
   "metadata": {},
   "source": [
    "# Importing required libraries"
   ]
  },
  {
   "cell_type": "code",
   "execution_count": 1,
   "id": "bf0c288c-0378-4bce-8cca-3414e0ee990f",
   "metadata": {},
   "outputs": [],
   "source": [
    "import numpy as np\n",
    "import pandas as pd\n",
    "import matplotlib.pyplot as plt\n",
    "from matplotlib import cm"
   ]
  },
  {
   "cell_type": "markdown",
   "id": "89ef9234-6f12-4d70-8a52-72a10e0f96d9",
   "metadata": {},
   "source": [
    "# Reading the Dataset"
   ]
  },
  {
   "cell_type": "code",
   "execution_count": 2,
   "id": "8395c24a-d4cb-4238-8647-6e548734bbec",
   "metadata": {},
   "outputs": [],
   "source": [
    "df=pd.read_csv('Netflix_Movies_and_TV_Shows.csv')"
   ]
  },
  {
   "cell_type": "markdown",
   "id": "92be8989-96cb-4ecb-a497-12b777eadbef",
   "metadata": {},
   "source": [
    "# OverView"
   ]
  },
  {
   "cell_type": "code",
   "execution_count": 3,
   "id": "0ce4ae4b-c190-48b5-b6ea-905b7e1f3f10",
   "metadata": {},
   "outputs": [
    {
     "data": {
      "text/html": [
       "<div>\n",
       "<style scoped>\n",
       "    .dataframe tbody tr th:only-of-type {\n",
       "        vertical-align: middle;\n",
       "    }\n",
       "\n",
       "    .dataframe tbody tr th {\n",
       "        vertical-align: top;\n",
       "    }\n",
       "\n",
       "    .dataframe thead th {\n",
       "        text-align: right;\n",
       "    }\n",
       "</style>\n",
       "<table border=\"1\" class=\"dataframe\">\n",
       "  <thead>\n",
       "    <tr style=\"text-align: right;\">\n",
       "      <th></th>\n",
       "      <th>Title</th>\n",
       "      <th>Type</th>\n",
       "      <th>Genre</th>\n",
       "      <th>Release Year</th>\n",
       "      <th>Rating</th>\n",
       "      <th>Duration</th>\n",
       "      <th>Country</th>\n",
       "    </tr>\n",
       "  </thead>\n",
       "  <tbody>\n",
       "    <tr>\n",
       "      <th>0</th>\n",
       "      <td>Title 1</td>\n",
       "      <td>TV Show</td>\n",
       "      <td>Comedy</td>\n",
       "      <td>1955</td>\n",
       "      <td>PG</td>\n",
       "      <td>3 Seasons</td>\n",
       "      <td>Japan</td>\n",
       "    </tr>\n",
       "    <tr>\n",
       "      <th>1</th>\n",
       "      <td>Title 2</td>\n",
       "      <td>TV Show</td>\n",
       "      <td>Horror</td>\n",
       "      <td>2020</td>\n",
       "      <td>G</td>\n",
       "      <td>3 Seasons</td>\n",
       "      <td>India</td>\n",
       "    </tr>\n",
       "    <tr>\n",
       "      <th>2</th>\n",
       "      <td>Title 3</td>\n",
       "      <td>TV Show</td>\n",
       "      <td>Action</td>\n",
       "      <td>1966</td>\n",
       "      <td>TV-PG</td>\n",
       "      <td>140 min</td>\n",
       "      <td>United States</td>\n",
       "    </tr>\n",
       "    <tr>\n",
       "      <th>3</th>\n",
       "      <td>Title 4</td>\n",
       "      <td>Movie</td>\n",
       "      <td>Thriller</td>\n",
       "      <td>2011</td>\n",
       "      <td>PG-13</td>\n",
       "      <td>3 Seasons</td>\n",
       "      <td>Canada</td>\n",
       "    </tr>\n",
       "    <tr>\n",
       "      <th>4</th>\n",
       "      <td>Title 5</td>\n",
       "      <td>TV Show</td>\n",
       "      <td>Romance</td>\n",
       "      <td>1959</td>\n",
       "      <td>TV-14</td>\n",
       "      <td>172 min</td>\n",
       "      <td>India</td>\n",
       "    </tr>\n",
       "  </tbody>\n",
       "</table>\n",
       "</div>"
      ],
      "text/plain": [
       "     Title     Type     Genre  Release Year Rating   Duration        Country\n",
       "0  Title 1  TV Show    Comedy          1955     PG  3 Seasons          Japan\n",
       "1  Title 2  TV Show    Horror          2020      G  3 Seasons          India\n",
       "2  Title 3  TV Show    Action          1966  TV-PG    140 min  United States\n",
       "3  Title 4    Movie  Thriller          2011  PG-13  3 Seasons         Canada\n",
       "4  Title 5  TV Show   Romance          1959  TV-14    172 min          India"
      ]
     },
     "execution_count": 3,
     "metadata": {},
     "output_type": "execute_result"
    }
   ],
   "source": [
    "df.head()"
   ]
  },
  {
   "cell_type": "code",
   "execution_count": 4,
   "id": "3ecdcf63-7f59-4e22-8e05-35b33c37f722",
   "metadata": {},
   "outputs": [
    {
     "data": {
      "text/plain": [
       "(3000, 7)"
      ]
     },
     "execution_count": 4,
     "metadata": {},
     "output_type": "execute_result"
    }
   ],
   "source": [
    "df.shape"
   ]
  },
  {
   "cell_type": "code",
   "execution_count": 5,
   "id": "c2b269bb-0285-49d5-b7a4-20ae50abf8d2",
   "metadata": {},
   "outputs": [
    {
     "data": {
      "text/plain": [
       "<bound method NDFrame.describe of            Title     Type     Genre  Release Year Rating   Duration  \\\n",
       "0        Title 1  TV Show    Comedy          1955     PG  3 Seasons   \n",
       "1        Title 2  TV Show    Horror          2020      G  3 Seasons   \n",
       "2        Title 3  TV Show    Action          1966  TV-PG    140 min   \n",
       "3        Title 4    Movie  Thriller          2011  PG-13  3 Seasons   \n",
       "4        Title 5  TV Show   Romance          1959  TV-14    172 min   \n",
       "...          ...      ...       ...           ...    ...        ...   \n",
       "2995  Title 2996    Movie  Thriller          2007  TV-PG     75 min   \n",
       "2996  Title 2997    Movie     Drama          2019      G  2 Seasons   \n",
       "2997  Title 2998  TV Show    Action          1993      R  3 Seasons   \n",
       "2998  Title 2999    Movie     Drama          1966  PG-13  1 Seasons   \n",
       "2999  Title 3000  TV Show  Thriller          2015     PG  2 Seasons   \n",
       "\n",
       "            Country  \n",
       "0             Japan  \n",
       "1             India  \n",
       "2     United States  \n",
       "3            Canada  \n",
       "4             India  \n",
       "...             ...  \n",
       "2995        Germany  \n",
       "2996        Germany  \n",
       "2997         Canada  \n",
       "2998        Germany  \n",
       "2999  United States  \n",
       "\n",
       "[3000 rows x 7 columns]>"
      ]
     },
     "execution_count": 5,
     "metadata": {},
     "output_type": "execute_result"
    }
   ],
   "source": [
    "df.describe"
   ]
  },
  {
   "cell_type": "code",
   "execution_count": 6,
   "id": "907efd4f-323c-41e5-8216-3a2cd7e73110",
   "metadata": {},
   "outputs": [
    {
     "data": {
      "text/html": [
       "<div>\n",
       "<style scoped>\n",
       "    .dataframe tbody tr th:only-of-type {\n",
       "        vertical-align: middle;\n",
       "    }\n",
       "\n",
       "    .dataframe tbody tr th {\n",
       "        vertical-align: top;\n",
       "    }\n",
       "\n",
       "    .dataframe thead th {\n",
       "        text-align: right;\n",
       "    }\n",
       "</style>\n",
       "<table border=\"1\" class=\"dataframe\">\n",
       "  <thead>\n",
       "    <tr style=\"text-align: right;\">\n",
       "      <th></th>\n",
       "      <th>Title</th>\n",
       "      <th>Type</th>\n",
       "      <th>Genre</th>\n",
       "      <th>Release Year</th>\n",
       "      <th>Rating</th>\n",
       "      <th>Duration</th>\n",
       "      <th>Country</th>\n",
       "    </tr>\n",
       "  </thead>\n",
       "  <tbody>\n",
       "    <tr>\n",
       "      <th>0</th>\n",
       "      <td>False</td>\n",
       "      <td>False</td>\n",
       "      <td>False</td>\n",
       "      <td>False</td>\n",
       "      <td>False</td>\n",
       "      <td>False</td>\n",
       "      <td>False</td>\n",
       "    </tr>\n",
       "    <tr>\n",
       "      <th>1</th>\n",
       "      <td>False</td>\n",
       "      <td>False</td>\n",
       "      <td>False</td>\n",
       "      <td>False</td>\n",
       "      <td>False</td>\n",
       "      <td>False</td>\n",
       "      <td>False</td>\n",
       "    </tr>\n",
       "    <tr>\n",
       "      <th>2</th>\n",
       "      <td>False</td>\n",
       "      <td>False</td>\n",
       "      <td>False</td>\n",
       "      <td>False</td>\n",
       "      <td>False</td>\n",
       "      <td>False</td>\n",
       "      <td>False</td>\n",
       "    </tr>\n",
       "    <tr>\n",
       "      <th>3</th>\n",
       "      <td>False</td>\n",
       "      <td>False</td>\n",
       "      <td>False</td>\n",
       "      <td>False</td>\n",
       "      <td>False</td>\n",
       "      <td>False</td>\n",
       "      <td>False</td>\n",
       "    </tr>\n",
       "    <tr>\n",
       "      <th>4</th>\n",
       "      <td>False</td>\n",
       "      <td>False</td>\n",
       "      <td>False</td>\n",
       "      <td>False</td>\n",
       "      <td>False</td>\n",
       "      <td>False</td>\n",
       "      <td>False</td>\n",
       "    </tr>\n",
       "    <tr>\n",
       "      <th>...</th>\n",
       "      <td>...</td>\n",
       "      <td>...</td>\n",
       "      <td>...</td>\n",
       "      <td>...</td>\n",
       "      <td>...</td>\n",
       "      <td>...</td>\n",
       "      <td>...</td>\n",
       "    </tr>\n",
       "    <tr>\n",
       "      <th>2995</th>\n",
       "      <td>False</td>\n",
       "      <td>False</td>\n",
       "      <td>False</td>\n",
       "      <td>False</td>\n",
       "      <td>False</td>\n",
       "      <td>False</td>\n",
       "      <td>False</td>\n",
       "    </tr>\n",
       "    <tr>\n",
       "      <th>2996</th>\n",
       "      <td>False</td>\n",
       "      <td>False</td>\n",
       "      <td>False</td>\n",
       "      <td>False</td>\n",
       "      <td>False</td>\n",
       "      <td>False</td>\n",
       "      <td>False</td>\n",
       "    </tr>\n",
       "    <tr>\n",
       "      <th>2997</th>\n",
       "      <td>False</td>\n",
       "      <td>False</td>\n",
       "      <td>False</td>\n",
       "      <td>False</td>\n",
       "      <td>False</td>\n",
       "      <td>False</td>\n",
       "      <td>False</td>\n",
       "    </tr>\n",
       "    <tr>\n",
       "      <th>2998</th>\n",
       "      <td>False</td>\n",
       "      <td>False</td>\n",
       "      <td>False</td>\n",
       "      <td>False</td>\n",
       "      <td>False</td>\n",
       "      <td>False</td>\n",
       "      <td>False</td>\n",
       "    </tr>\n",
       "    <tr>\n",
       "      <th>2999</th>\n",
       "      <td>False</td>\n",
       "      <td>False</td>\n",
       "      <td>False</td>\n",
       "      <td>False</td>\n",
       "      <td>False</td>\n",
       "      <td>False</td>\n",
       "      <td>False</td>\n",
       "    </tr>\n",
       "  </tbody>\n",
       "</table>\n",
       "<p>3000 rows × 7 columns</p>\n",
       "</div>"
      ],
      "text/plain": [
       "      Title   Type  Genre  Release Year  Rating  Duration  Country\n",
       "0     False  False  False         False   False     False    False\n",
       "1     False  False  False         False   False     False    False\n",
       "2     False  False  False         False   False     False    False\n",
       "3     False  False  False         False   False     False    False\n",
       "4     False  False  False         False   False     False    False\n",
       "...     ...    ...    ...           ...     ...       ...      ...\n",
       "2995  False  False  False         False   False     False    False\n",
       "2996  False  False  False         False   False     False    False\n",
       "2997  False  False  False         False   False     False    False\n",
       "2998  False  False  False         False   False     False    False\n",
       "2999  False  False  False         False   False     False    False\n",
       "\n",
       "[3000 rows x 7 columns]"
      ]
     },
     "execution_count": 6,
     "metadata": {},
     "output_type": "execute_result"
    }
   ],
   "source": [
    "df.isnull()"
   ]
  },
  {
   "cell_type": "code",
   "execution_count": 7,
   "id": "968679fc-962c-4077-b40c-e35204cbda59",
   "metadata": {},
   "outputs": [],
   "source": [
    "df.dropna(inplace=True)"
   ]
  },
  {
   "cell_type": "code",
   "execution_count": 8,
   "id": "3041b26a-f4e6-428a-b37f-09594c93d3a4",
   "metadata": {},
   "outputs": [
    {
     "data": {
      "text/plain": [
       "<bound method NDFrame.describe of            Title     Type     Genre  Release Year Rating   Duration  \\\n",
       "0        Title 1  TV Show    Comedy          1955     PG  3 Seasons   \n",
       "1        Title 2  TV Show    Horror          2020      G  3 Seasons   \n",
       "2        Title 3  TV Show    Action          1966  TV-PG    140 min   \n",
       "3        Title 4    Movie  Thriller          2011  PG-13  3 Seasons   \n",
       "4        Title 5  TV Show   Romance          1959  TV-14    172 min   \n",
       "...          ...      ...       ...           ...    ...        ...   \n",
       "2995  Title 2996    Movie  Thriller          2007  TV-PG     75 min   \n",
       "2996  Title 2997    Movie     Drama          2019      G  2 Seasons   \n",
       "2997  Title 2998  TV Show    Action          1993      R  3 Seasons   \n",
       "2998  Title 2999    Movie     Drama          1966  PG-13  1 Seasons   \n",
       "2999  Title 3000  TV Show  Thriller          2015     PG  2 Seasons   \n",
       "\n",
       "            Country  \n",
       "0             Japan  \n",
       "1             India  \n",
       "2     United States  \n",
       "3            Canada  \n",
       "4             India  \n",
       "...             ...  \n",
       "2995        Germany  \n",
       "2996        Germany  \n",
       "2997         Canada  \n",
       "2998        Germany  \n",
       "2999  United States  \n",
       "\n",
       "[3000 rows x 7 columns]>"
      ]
     },
     "execution_count": 8,
     "metadata": {},
     "output_type": "execute_result"
    }
   ],
   "source": [
    "df.describe"
   ]
  },
  {
   "cell_type": "markdown",
   "id": "27cecaf8-f5c8-4edf-a9a8-5ada55a45579",
   "metadata": {},
   "source": [
    "-   no null value was there"
   ]
  },
  {
   "cell_type": "markdown",
   "id": "19b8df08-32d1-4bd0-b60a-7ab7dfb6f792",
   "metadata": {},
   "source": [
    "# EXPLANATORY DATA ANALYSIS (EDA)"
   ]
  },
  {
   "cell_type": "markdown",
   "id": "4254e746-beca-4cbc-b478-ddd728f7f9f3",
   "metadata": {},
   "source": [
    "## ANALYSIS OF TOP GENRES"
   ]
  },
  {
   "cell_type": "code",
   "execution_count": 9,
   "id": "707e3d4b-e678-401f-bf8d-e20b25ba149c",
   "metadata": {},
   "outputs": [
    {
     "data": {
      "text/plain": [
       "Genre\n",
       "Horror         398\n",
       "Thriller       398\n",
       "Drama          378\n",
       "Romance        376\n",
       "Documentary    369\n",
       "Comedy         369\n",
       "Action         367\n",
       "Sci-Fi         345\n",
       "Name: count, dtype: int64"
      ]
     },
     "execution_count": 9,
     "metadata": {},
     "output_type": "execute_result"
    }
   ],
   "source": [
    "df['Genre'].value_counts()"
   ]
  },
  {
   "cell_type": "code",
   "execution_count": 10,
   "id": "d8fd7c49-bfd7-41b9-8413-ed223baa2732",
   "metadata": {},
   "outputs": [],
   "source": [
    "top_genre=df['Genre'].value_counts()"
   ]
  },
  {
   "cell_type": "code",
   "execution_count": 11,
   "id": "8341d258-a736-4669-99bb-f0c1a4ef8bce",
   "metadata": {},
   "outputs": [
    {
     "data": {
      "image/png": "[encoded data removed]",
      "text/plain": [
       "<Figure size 640x480 with 1 Axes>"
      ]
     },
     "metadata": {},
     "output_type": "display_data"
    }
   ],
   "source": [
    "plt.pie(top_genre,labels=top_genre.index,shadow=True)\n",
    "plt.title(\"top Genres\")\n",
    "plt.show()"
   ]
  },
  {
   "cell_type": "markdown",
   "id": "c78470f0-1888-45fb-9ee7-f9e091f3d891",
   "metadata": {},
   "source": [
    "## ANALYSING TOP COUNTRIES"
   ]
  },
  {
   "cell_type": "code",
   "execution_count": 12,
   "id": "2a2b61d5-a0ad-44bd-8b0c-0c248f111894",
   "metadata": {},
   "outputs": [
    {
     "data": {
      "text/plain": [
       "Country\n",
       "Canada            421\n",
       "United Kingdom    392\n",
       "South Korea       376\n",
       "Germany           373\n",
       "Australia         371\n",
       "United States     369\n",
       "Japan             349\n",
       "India             349\n",
       "Name: count, dtype: int64"
      ]
     },
     "execution_count": 12,
     "metadata": {},
     "output_type": "execute_result"
    }
   ],
   "source": [
    "df['Country'].value_counts()"
   ]
  },
  {
   "cell_type": "code",
   "execution_count": 13,
   "id": "2991111d-8c1c-4029-b727-d3eeaa2acd6b",
   "metadata": {},
   "outputs": [],
   "source": [
    "top_countries=df['Country'].value_counts()\n",
    "country_indices=df[\"Country\"].value_counts().index"
   ]
  },
  {
   "cell_type": "code",
   "execution_count": 14,
   "id": "87ce5569-6472-4784-aa06-513c77571942",
   "metadata": {},
   "outputs": [
    {
     "data": {
      "image/png": "[encoded data removed]",
      "text/plain": [
       "<Figure size 1200x600 with 1 Axes>"
      ]
     },
     "metadata": {},
     "output_type": "display_data"
    }
   ],
   "source": [
    "plt.figure(figsize=(12, 6))\n",
    "plt.bar(country_indices,top_countries,color=\"skyblue\",edgecolor=\"k\")\n",
    "plt.title(\"Most no of shows from Countries\")\n",
    "plt.show()"
   ]
  },
  {
   "cell_type": "markdown",
   "id": "329df216-3955-4fd6-a551-18b0790ec9d2",
   "metadata": {},
   "source": [
    "## ANALYSING THE MOST POPULAR AGE RATINGS"
   ]
  },
  {
   "cell_type": "code",
   "execution_count": 15,
   "id": "4801ce25-34d1-4e53-b8b7-6f7bbe69a33f",
   "metadata": {},
   "outputs": [
    {
     "data": {
      "text/plain": [
       "Rating\n",
       "TV-14    441\n",
       "R        441\n",
       "PG       434\n",
       "TV-PG    430\n",
       "PG-13    422\n",
       "TV-MA    418\n",
       "G        414\n",
       "Name: count, dtype: int64"
      ]
     },
     "execution_count": 15,
     "metadata": {},
     "output_type": "execute_result"
    }
   ],
   "source": [
    "df['Rating'].value_counts()"
   ]
  },
  {
   "cell_type": "code",
   "execution_count": 18,
   "id": "11e7e18c-e58b-44f2-845b-c4edc7b6aa5b",
   "metadata": {},
   "outputs": [],
   "source": [
    "rating_chart=df['Rating'].value_counts()\n",
    "rating_indices=df['Rating'].value_counts().index\n",
    "colors = cm.viridis([0.1, 0.3, 0.5, 0.7, 0.9])"
   ]
  },
  {
   "cell_type": "code",
   "execution_count": 27,
   "id": "3cef6bb5-9f2e-4bd0-8db6-349086c13ef5",
   "metadata": {},
   "outputs": [
    {
     "data": {
      "image/png": "[encoded data removed]",
      "text/plain": [
       "<Figure size 1200x600 with 1 Axes>"
      ]
     },
     "metadata": {},
     "output_type": "display_data"
    }
   ],
   "source": [
    "plt.figure(figsize=(12, 6))\n",
    "plt.bar(rating_indices,rating_chart,color=colors)\n",
    "plt.title(\"Most no of shows from a particular age rating\")\n",
    "plt.show()"
   ]
  },
  {
   "cell_type": "markdown",
   "id": "8ea6b9eb-4c0d-4904-9289-db9096409f56",
   "metadata": {},
   "source": [
    "## TVSHOWS VS MOVIES"
   ]
  },
  {
   "cell_type": "code",
   "execution_count": 21,
   "id": "1e4f5f9e-da9b-495d-aafe-38375576c50d",
   "metadata": {},
   "outputs": [
    {
     "data": {
      "text/plain": [
       "Type\n",
       "TV Show    1527\n",
       "Movie      1473\n",
       "Name: count, dtype: int64"
      ]
     },
     "execution_count": 21,
     "metadata": {},
     "output_type": "execute_result"
    }
   ],
   "source": [
    "df['Type'].value_counts()"
   ]
  },
  {
   "cell_type": "code",
   "execution_count": 22,
   "id": "6a28e12d-6aa3-4d27-ad22-73a5cd282553",
   "metadata": {},
   "outputs": [],
   "source": [
    "types=df['Type'].value_counts()"
   ]
  },
  {
   "cell_type": "code",
   "execution_count": 23,
   "id": "69f03377-567f-4c82-82da-2ec1775efa62",
   "metadata": {},
   "outputs": [
    {
     "data": {
      "image/png": "[encoded data removed]",
      "text/plain": [
       "<Figure size 640x480 with 1 Axes>"
      ]
     },
     "metadata": {},
     "output_type": "display_data"
    }
   ],
   "source": [
    "plt.pie(types,labels=types.index,shadow=True)\n",
    "plt.title(\"TV SHOWS VS MOVIES\")\n",
    "plt.show()"
   ]
  },
  {
   "cell_type": "markdown",
   "id": "e4128ddf-3032-41f8-a30c-f9821ab5e5d3",
   "metadata": {},
   "source": [
    "# CONCLUSION"
   ]
  },
  {
   "cell_type": "markdown",
   "id": "ec68c387-b556-47e8-823d-0b2a636ba10e",
   "metadata": {},
   "source": [
    "-  Dataset was very appropiate,all columns are in perfect datatypes,and there was no null values in the dataset either\n",
    "-  Horror and Thriller are the most popular genres which only emerged as most popular by a very slight margin\n",
    "-  Canada released most number of shows followed by UK and south Korea\n",
    "-  most of the movies which came out has the rating of TV-14 and R\n",
    "-  overall more TV Shows were release than movies"
   ]
  },
  {
   "cell_type": "code",
   "execution_count": null,
   "id": "eb13de4f-f2ec-4603-9a90-b3e20a049ad7",
   "metadata": {},
   "outputs": [],
   "source": []
  }
 ],
 "metadata": {
  "kernelspec": {
   "display_name": "Python 3 (ipykernel)",
   "language": "python",
   "name": "python3"
  },
  "language_info": {
   "codemirror_mode": {
    "name": "ipython",
    "version": 3
   },
   "file_extension": ".py",
   "mimetype": "text/x-python",
   "name": "python",
   "nbconvert_exporter": "python",
   "pygments_lexer": "ipython3",
   "version": "3.13.0"
  }
 },
 "nbformat": 4,
 "nbformat_minor": 5
}
